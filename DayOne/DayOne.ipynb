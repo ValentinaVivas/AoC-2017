{
 "cells": [
  {
   "cell_type": "markdown",
   "id": "3e5ac200",
   "metadata": {},
   "source": [
    "Day One Part 1"
   ]
  },
  {
   "cell_type": "code",
   "execution_count": 1,
   "id": "4dbfaf52",
   "metadata": {
    "scrolled": true
   },
   "outputs": [
    {
     "name": "stdout",
     "output_type": "stream",
     "text": [
      "1177\n"
     ]
    }
   ],
   "source": [
    "with open(\"DayOne.txt\", \"r\") as f:\n",
    "    txt_list = [str(line.strip()) for line in f]\n",
    "txt_list\n",
    "\n",
    "txt = str(txt_list)\n",
    "numSumList = []\n",
    "for i in range(2,len(txt)-3):\n",
    "    if(txt[i] == txt[i+1]):\n",
    "        numSum = int(txt[i])\n",
    "        numSumLast = int(txt[-3])\n",
    "        numSumList.append(numSum)\n",
    "numSumList.append(numSumLast)\n",
    "print(sum(numSumList))\n",
    "    "
   ]
  },
  {
   "cell_type": "markdown",
   "id": "d246d035",
   "metadata": {},
   "source": [
    "Day One Part 2"
   ]
  },
  {
   "cell_type": "code",
   "execution_count": 2,
   "id": "2527ecd7",
   "metadata": {},
   "outputs": [
    {
     "name": "stdout",
     "output_type": "stream",
     "text": [
      "1060\n"
     ]
    }
   ],
   "source": [
    "numSumList = []\n",
    "txtStr = txt_list[0]\n",
    "for i in range(0, len(txtStr)):\n",
    "    if(i < len(txtStr) // 2):\n",
    "        if(txtStr[i] == txtStr[i + len(txtStr) // 2]):\n",
    "            numSumList.append(int(txtStr[i]))\n",
    "    else:\n",
    "        if(txtStr[i] == txtStr[i - len(txtStr) // 2]):\n",
    "            numSumList.append(int(txtStr[i]))\n",
    "print(sum(numSumList))"
   ]
  }
 ],
 "metadata": {
  "kernelspec": {
   "display_name": "Python 3 (ipykernel)",
   "language": "python",
   "name": "python3"
  },
  "language_info": {
   "codemirror_mode": {
    "name": "ipython",
    "version": 3
   },
   "file_extension": ".py",
   "mimetype": "text/x-python",
   "name": "python",
   "nbconvert_exporter": "python",
   "pygments_lexer": "ipython3",
   "version": "3.9.7"
  }
 },
 "nbformat": 4,
 "nbformat_minor": 5
}
