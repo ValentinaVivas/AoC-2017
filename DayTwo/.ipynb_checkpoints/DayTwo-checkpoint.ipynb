{
 "cells": [
  {
   "cell_type": "markdown",
   "id": "ec6ac751",
   "metadata": {},
   "source": [
    "# Day Two Part 1"
   ]
  },
  {
   "cell_type": "code",
   "execution_count": 123,
   "id": "a3350689",
   "metadata": {},
   "outputs": [
    {
     "name": "stdout",
     "output_type": "stream",
     "text": [
      "48357\n"
     ]
    }
   ],
   "source": [
    "with open(\"DayTwo.txt\", \"r\") as f:\n",
    "    txt_list = [str(line.strip()) for line in f]\n",
    "txt_list\n",
    "\n",
    "rows = []\n",
    "chechSumList = []\n",
    "for i in txt_list: \n",
    "    rowsInt = [int(i) for i in i.split(\"\\t\")]\n",
    "    rows.append(rowsInt)\n",
    "    chechSumList.append(max(rowsInt) - min(rowsInt))\n",
    "print(sum(chechSumList))"
   ]
  },
  {
   "cell_type": "markdown",
   "id": "4811d222",
   "metadata": {},
   "source": [
    "# Day Two Part 2"
   ]
  },
  {
   "cell_type": "code",
   "execution_count": 137,
   "id": "dcaa5296",
   "metadata": {},
   "outputs": [
    {
     "name": "stdout",
     "output_type": "stream",
     "text": [
      "1\n",
      "1\n",
      "1\n",
      "1\n",
      "1\n",
      "1\n",
      "1\n",
      "1\n",
      "1\n",
      "1\n",
      "1\n",
      "1\n",
      "1\n",
      "1\n",
      "1\n",
      "1\n",
      "1\n"
     ]
    }
   ],
   "source": [
    "checkSumList = []\n",
    "for i in rows:\n",
    "    for j in i:\n",
    "        for k in i:\n",
    "            if(j%k == 0):\n",
    "                divRows = j // k\n",
    "    print(divRows)"
   ]
  },
  {
   "cell_type": "code",
   "execution_count": null,
   "id": "a6b6cde8",
   "metadata": {},
   "outputs": [],
   "source": []
  }
 ],
 "metadata": {
  "kernelspec": {
   "display_name": "Python 3 (ipykernel)",
   "language": "python",
   "name": "python3"
  },
  "language_info": {
   "codemirror_mode": {
    "name": "ipython",
    "version": 3
   },
   "file_extension": ".py",
   "mimetype": "text/x-python",
   "name": "python",
   "nbconvert_exporter": "python",
   "pygments_lexer": "ipython3",
   "version": "3.9.7"
  }
 },
 "nbformat": 4,
 "nbformat_minor": 5
}
